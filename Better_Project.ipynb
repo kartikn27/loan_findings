{
 "cells": [
  {
   "cell_type": "code",
   "execution_count": 125,
   "metadata": {},
   "outputs": [],
   "source": [
    "import pandas as pd\n",
    "%matplotlib inline\n",
    "\n",
    "import matplotlib\n",
    "import numpy as np\n",
    "import matplotlib.pyplot as plt\n",
    "import scipy.stats as stats\n",
    "import pylab as pl"
   ]
  },
  {
   "cell_type": "markdown",
   "metadata": {},
   "source": [
    "### Read loans.csv as a Pandas Dataframe"
   ]
  },
  {
   "cell_type": "code",
   "execution_count": 126,
   "metadata": {},
   "outputs": [],
   "source": [
    "df = pd.read_csv('loans.csv', header=None)\n",
    "df.columns = ['loan_amount', 'address', 'created_at', 'funded_at']"
   ]
  },
  {
   "cell_type": "code",
   "execution_count": 127,
   "metadata": {},
   "outputs": [
    {
     "name": "stdout",
     "output_type": "stream",
     "text": [
      "<class 'pandas.core.frame.DataFrame'>\n",
      "RangeIndex: 5143 entries, 0 to 5142\n",
      "Data columns (total 4 columns):\n",
      "loan_amount    5143 non-null float64\n",
      "address        5143 non-null object\n",
      "created_at     5143 non-null object\n",
      "funded_at      1055 non-null object\n",
      "dtypes: float64(1), object(3)\n",
      "memory usage: 160.8+ KB\n"
     ]
    }
   ],
   "source": [
    "df.info()"
   ]
  },
  {
   "cell_type": "markdown",
   "metadata": {},
   "source": [
    "### Some information about the data: <br> Total rows: 5143 <br> No null entries in columns loan_amount, address, created_at <br> 1055 non-null entries in funded_at <br> Which means 1055 loan applications have been funded which is 20% of the total applications"
   ]
  },
  {
   "cell_type": "code",
   "execution_count": 128,
   "metadata": {},
   "outputs": [],
   "source": [
    "df['created_at'] = pd.to_datetime(df['created_at'])\n",
    "df['funded_at'] = pd.to_datetime(df['funded_at'])"
   ]
  },
  {
   "cell_type": "markdown",
   "metadata": {},
   "source": [
    "# Outlier Removal\n",
    "## To find the outliers in the column loan_amount, I took the mean of the column and removed all the values which are two standard deviations away from the mean"
   ]
  },
  {
   "cell_type": "code",
   "execution_count": 129,
   "metadata": {},
   "outputs": [
    {
     "data": {
      "text/plain": [
       "382389.44273770176"
      ]
     },
     "execution_count": 129,
     "metadata": {},
     "output_type": "execute_result"
    }
   ],
   "source": [
    "df['loan_amount'].mean()"
   ]
  },
  {
   "cell_type": "markdown",
   "metadata": {},
   "source": [
    "### Mean before removing outliers is 382389"
   ]
  },
  {
   "cell_type": "code",
   "execution_count": 130,
   "metadata": {},
   "outputs": [],
   "source": [
    "def show_normal_dist(arr):\n",
    "    h = sorted(arr)\n",
    "    fit = stats.norm.pdf(h, np.mean(h), np.std(h))\n",
    "    pl.plot(h,fit,'-o')\n",
    "    pl.hist(h,normed=True)\n",
    "    pl.show()"
   ]
  },
  {
   "cell_type": "markdown",
   "metadata": {},
   "source": [
    "### Normal distribution of loan_amount before removing outliers: LOOKS REALLY BAD <br> Lets get this curve right\n"
   ]
  },
  {
   "cell_type": "code",
   "execution_count": 131,
   "metadata": {},
   "outputs": [
    {
     "name": "stderr",
     "output_type": "stream",
     "text": [
      "/usr/local/Cellar/python3/3.6.3/Frameworks/Python.framework/Versions/3.6/lib/python3.6/site-packages/matplotlib/axes/_axes.py:6571: UserWarning: The 'normed' kwarg is deprecated, and has been replaced by the 'density' kwarg.\n",
      "  warnings.warn(\"The 'normed' kwarg is deprecated, and has been \"\n"
     ]
    },
    {
     "data": {
      "image/png": "[encoded data removed]",
      "text/plain": [
       "<Figure size 432x288 with 1 Axes>"
      ]
     },
     "metadata": {},
     "output_type": "display_data"
    }
   ],
   "source": [
    "show_normal_dist(df['loan_amount'])"
   ]
  },
  {
   "cell_type": "markdown",
   "metadata": {},
   "source": [
    "### remove_outliers() method, identifies the values which two standard deviations away from the mean as outliers"
   ]
  },
  {
   "cell_type": "code",
   "execution_count": 132,
   "metadata": {},
   "outputs": [],
   "source": [
    "def remove_outliers(arr):\n",
    "    elements = np.array(arr)\n",
    "    mean = np.mean(elements, axis=0)\n",
    "    sd = np.std(elements, axis=0)\n",
    "    no_outliers_list = [x for x in arr if (x > mean - 2 * sd)]\n",
    "    no_outliers_list = [x for x in no_outliers_list if (x < mean + 2 * sd)]\n",
    "    return no_outliers_list"
   ]
  },
  {
   "cell_type": "code",
   "execution_count": 133,
   "metadata": {},
   "outputs": [],
   "source": [
    "no_outliers_list = remove_outliers(df['loan_amount'])"
   ]
  },
  {
   "cell_type": "code",
   "execution_count": 134,
   "metadata": {},
   "outputs": [
    {
     "data": {
      "text/plain": [
       "5139"
      ]
     },
     "execution_count": 134,
     "metadata": {},
     "output_type": "execute_result"
    }
   ],
   "source": [
    "len(no_outliers_list)"
   ]
  },
  {
   "cell_type": "markdown",
   "metadata": {},
   "source": [
    "### Also removed the values whose loan rwuest amount is less than $1000"
   ]
  },
  {
   "cell_type": "code",
   "execution_count": 135,
   "metadata": {},
   "outputs": [],
   "source": [
    "low_outliers = sorted(i for i in no_outliers_list if i < 1000)"
   ]
  },
  {
   "cell_type": "code",
   "execution_count": 136,
   "metadata": {},
   "outputs": [
    {
     "data": {
      "text/plain": [
       "[9.0]"
      ]
     },
     "execution_count": 136,
     "metadata": {},
     "output_type": "execute_result"
    }
   ],
   "source": [
    "low_outliers"
   ]
  },
  {
   "cell_type": "code",
   "execution_count": 137,
   "metadata": {},
   "outputs": [],
   "source": [
    "no_outliers_list = no_outliers_list"
   ]
  },
  {
   "cell_type": "code",
   "execution_count": 138,
   "metadata": {},
   "outputs": [
    {
     "data": {
      "text/plain": [
       "350562.93500681064"
      ]
     },
     "execution_count": 138,
     "metadata": {},
     "output_type": "execute_result"
    }
   ],
   "source": [
    "np.mean(no_outliers_list)"
   ]
  },
  {
   "cell_type": "code",
   "execution_count": 139,
   "metadata": {},
   "outputs": [
    {
     "name": "stderr",
     "output_type": "stream",
     "text": [
      "/usr/local/Cellar/python3/3.6.3/Frameworks/Python.framework/Versions/3.6/lib/python3.6/site-packages/matplotlib/axes/_axes.py:6571: UserWarning: The 'normed' kwarg is deprecated, and has been replaced by the 'density' kwarg.\n",
      "  warnings.warn(\"The 'normed' kwarg is deprecated, and has been \"\n"
     ]
    },
    {
     "data": {
      "image/png": "[encoded data removed]",
      "text/plain": [
       "<Figure size 432x288 with 1 Axes>"
      ]
     },
     "metadata": {},
     "output_type": "display_data"
    }
   ],
   "source": [
    "show_normal_dist(no_outliers_list)"
   ]
  },
  {
   "cell_type": "markdown",
   "metadata": {},
   "source": [
    "### Mean after removing outliers is 349750 <br> So removing outliers caused the mean to reduce by $31,827 <br> And as you see above, we have a much better and pronounced normal dist curve"
   ]
  },
  {
   "cell_type": "markdown",
   "metadata": {},
   "source": [
    "### Let's see which values were the outliers"
   ]
  },
  {
   "cell_type": "code",
   "execution_count": 140,
   "metadata": {},
   "outputs": [],
   "source": [
    "def get_list_intersection(list1, list2):\n",
    "    return[x for x in list1 if x not in list2]    "
   ]
  },
  {
   "cell_type": "code",
   "execution_count": 141,
   "metadata": {},
   "outputs": [],
   "source": [
    "outliers = get_list_intersection(list(df['loan_amount']), no_outliers_list)"
   ]
  },
  {
   "cell_type": "markdown",
   "metadata": {},
   "source": [
    "### Following command removes the outliers from the dataframe\n",
    "### 4 values having very haigh values are removed"
   ]
  },
  {
   "cell_type": "code",
   "execution_count": 142,
   "metadata": {},
   "outputs": [],
   "source": [
    "df_no_outliers = df[~df['loan_amount'].isin(outliers)]"
   ]
  },
  {
   "cell_type": "markdown",
   "metadata": {},
   "source": [
    "### The above outlier values are very large and away from the mean, hence they are removed from the original dataframe <br> After removing the above four outliers, the number of loan applications now is 5139"
   ]
  },
  {
   "cell_type": "code",
   "execution_count": 143,
   "metadata": {},
   "outputs": [],
   "source": [
    "df_sorted_date = df_no_outliers.sort_values(by = ['created_at'], ascending=True)"
   ]
  },
  {
   "cell_type": "code",
   "execution_count": 20,
   "metadata": {},
   "outputs": [],
   "source": [
    "# group by month\n",
    "# find conversion rate in each month\n",
    "# do the same for last 30, 60 days\n",
    "\n",
    "# create a new df with funded loans\n",
    "# find the time difference in approval for all\n",
    "# VISUALIZE"
   ]
  },
  {
   "cell_type": "markdown",
   "metadata": {},
   "source": [
    "## Next step is to divide the dataframe as per the years and months and deciper the mystery of the conversion rates"
   ]
  },
  {
   "cell_type": "code",
   "execution_count": 145,
   "metadata": {},
   "outputs": [],
   "source": [
    "df_sorted_date['created_at_month'] = df_sorted_date['created_at'].dt.month\n",
    "df_sorted_date['created_at_year'] = df_sorted_date['created_at'].dt.year"
   ]
  },
  {
   "cell_type": "code",
   "execution_count": 146,
   "metadata": {},
   "outputs": [
    {
     "data": {
      "text/plain": [
       "2017    4189\n",
       "2016     950\n",
       "Name: created_at_year, dtype: int64"
      ]
     },
     "execution_count": 146,
     "metadata": {},
     "output_type": "execute_result"
    }
   ],
   "source": [
    "df_sorted_date['created_at_year'].value_counts()"
   ]
  },
  {
   "cell_type": "markdown",
   "metadata": {},
   "source": [
    "## As it can be seen above, there were 950 and 4189 valid loan applications in 2016 and 2017 respectively <br><br> Lets try to see what's happenig for each year, month and quarter"
   ]
  },
  {
   "cell_type": "code",
   "execution_count": 147,
   "metadata": {},
   "outputs": [],
   "source": [
    "df_2016 = df_sorted_date[df_sorted_date['created_at_year'] == 2016]\n",
    "df_2017 = df_sorted_date[df_sorted_date['created_at_year'] == 2017]"
   ]
  },
  {
   "cell_type": "markdown",
   "metadata": {},
   "source": [
    "# First up is year 2016"
   ]
  },
  {
   "cell_type": "code",
   "execution_count": 148,
   "metadata": {},
   "outputs": [],
   "source": [
    "def get_funded_per_month(df_year):\n",
    "    results_list = []\n",
    "    for i in range(1,13):        \n",
    "        try:\n",
    "            df_month = df_year.groupby(by='created_at_month').get_group(i)\n",
    "            results_list.append({'month': i, \n",
    "                                 'total_applications': len(df_month), \n",
    "                                 'funded_applications': len(df_month[~df_month['funded_at'].isnull()])})\n",
    "            \n",
    "        except KeyError:\n",
    "            continue\n",
    "    return results_list\n",
    "        \n"
   ]
  },
  {
   "cell_type": "code",
   "execution_count": 149,
   "metadata": {},
   "outputs": [
    {
     "data": {
      "text/plain": [
       "[{'funded_applications': 0, 'month': 2, 'total_applications': 1},\n",
       " {'funded_applications': 0, 'month': 3, 'total_applications': 9},\n",
       " {'funded_applications': 0, 'month': 4, 'total_applications': 32},\n",
       " {'funded_applications': 0, 'month': 5, 'total_applications': 45},\n",
       " {'funded_applications': 1, 'month': 6, 'total_applications': 2},\n",
       " {'funded_applications': 2, 'month': 7, 'total_applications': 3},\n",
       " {'funded_applications': 15, 'month': 8, 'total_applications': 15},\n",
       " {'funded_applications': 119, 'month': 9, 'total_applications': 119},\n",
       " {'funded_applications': 167, 'month': 10, 'total_applications': 169},\n",
       " {'funded_applications': 85, 'month': 11, 'total_applications': 242},\n",
       " {'funded_applications': 60, 'month': 12, 'total_applications': 313}]"
      ]
     },
     "execution_count": 149,
     "metadata": {},
     "output_type": "execute_result"
    }
   ],
   "source": [
    "get_funded_per_month(df_2016)"
   ]
  },
  {
   "cell_type": "markdown",
   "metadata": {},
   "source": [
    "## Above dictionary tells the number of total applications and funded applications for every month in the year 2016 <br><br> Following are the same findings for the year 2017"
   ]
  },
  {
   "cell_type": "code",
   "execution_count": 150,
   "metadata": {},
   "outputs": [
    {
     "data": {
      "text/plain": [
       "[{'funded_applications': 61, 'month': 1, 'total_applications': 544},\n",
       " {'funded_applications': 45, 'month': 2, 'total_applications': 257},\n",
       " {'funded_applications': 35, 'month': 3, 'total_applications': 224},\n",
       " {'funded_applications': 27, 'month': 4, 'total_applications': 169},\n",
       " {'funded_applications': 61, 'month': 5, 'total_applications': 209},\n",
       " {'funded_applications': 87, 'month': 6, 'total_applications': 414},\n",
       " {'funded_applications': 75, 'month': 7, 'total_applications': 481},\n",
       " {'funded_applications': 75, 'month': 8, 'total_applications': 521},\n",
       " {'funded_applications': 61, 'month': 9, 'total_applications': 469},\n",
       " {'funded_applications': 67, 'month': 10, 'total_applications': 411},\n",
       " {'funded_applications': 12, 'month': 11, 'total_applications': 352},\n",
       " {'funded_applications': 0, 'month': 12, 'total_applications': 138}]"
      ]
     },
     "execution_count": 150,
     "metadata": {},
     "output_type": "execute_result"
    }
   ],
   "source": [
    "get_funded_per_month(df_2017)"
   ]
  },
  {
   "cell_type": "code",
   "execution_count": null,
   "metadata": {},
   "outputs": [],
   "source": []
  },
  {
   "cell_type": "markdown",
   "metadata": {},
   "source": [
    "# DIFFERENCE IN TIMES"
   ]
  },
  {
   "cell_type": "code",
   "execution_count": 151,
   "metadata": {},
   "outputs": [],
   "source": [
    "df_2016_funded = df_2016[~df_2016['funded_at'].isnull()]"
   ]
  },
  {
   "cell_type": "code",
   "execution_count": 152,
   "metadata": {},
   "outputs": [
    {
     "name": "stderr",
     "output_type": "stream",
     "text": [
      "/usr/local/Cellar/python3/3.6.3/Frameworks/Python.framework/Versions/3.6/lib/python3.6/site-packages/ipykernel_launcher.py:1: SettingWithCopyWarning: \n",
      "A value is trying to be set on a copy of a slice from a DataFrame.\n",
      "Try using .loc[row_indexer,col_indexer] = value instead\n",
      "\n",
      "See the caveats in the documentation: http://pandas.pydata.org/pandas-docs/stable/indexing.html#indexing-view-versus-copy\n",
      "  \"\"\"Entry point for launching an IPython kernel.\n"
     ]
    }
   ],
   "source": [
    "df_2016_funded['time_to_fund'] = (df_2016_funded['funded_at'] - df_2016_funded['created_at']).dt.days"
   ]
  },
  {
   "cell_type": "code",
   "execution_count": 154,
   "metadata": {},
   "outputs": [],
   "source": [
    "df_2017_funded = df_2017[~df_2017['funded_at'].isnull()]"
   ]
  },
  {
   "cell_type": "code",
   "execution_count": 155,
   "metadata": {},
   "outputs": [
    {
     "name": "stderr",
     "output_type": "stream",
     "text": [
      "/usr/local/Cellar/python3/3.6.3/Frameworks/Python.framework/Versions/3.6/lib/python3.6/site-packages/ipykernel_launcher.py:1: SettingWithCopyWarning: \n",
      "A value is trying to be set on a copy of a slice from a DataFrame.\n",
      "Try using .loc[row_indexer,col_indexer] = value instead\n",
      "\n",
      "See the caveats in the documentation: http://pandas.pydata.org/pandas-docs/stable/indexing.html#indexing-view-versus-copy\n",
      "  \"\"\"Entry point for launching an IPython kernel.\n"
     ]
    }
   ],
   "source": [
    "df_2017_funded['time_to_fund'] = (df_2017_funded['funded_at'] - df_2017_funded['created_at']).dt.days"
   ]
  },
  {
   "cell_type": "code",
   "execution_count": null,
   "metadata": {},
   "outputs": [],
   "source": []
  },
  {
   "cell_type": "code",
   "execution_count": null,
   "metadata": {},
   "outputs": [],
   "source": [
    "What is the conversion rate from loan application to fund, broken down by conforming vs jumbo?\n",
    "How does it vary over time?\n",
    "How much worse is the conversion rate for jumbo, controlling for the loan amount?\n",
    "What about states? Are there particular states where it looks like our Jumbo has much worse conversion?"
   ]
  },
  {
   "cell_type": "markdown",
   "metadata": {},
   "source": [
    "## Method get_county_code_from_address(address, year) receives address and the year and returns the county code for that address <br><br> Method get_state_code_from_address(address, year) receives address and the year and returns the state code for that address <br><br> Method get_state_abbr_from_address(address, year) receives address and the year and returns the state abbrevation for that address"
   ]
  },
  {
   "cell_type": "code",
   "execution_count": 217,
   "metadata": {},
   "outputs": [],
   "source": [
    "import requests\n",
    "import json\n",
    "def get_county_code_from_address(address, year):\n",
    "    header_obj = { 'Content-Type': 'application/json' }\n",
    "    payload_obj = {'sSingleLine': address, 'iCensusYear': year}\n",
    "    r = requests.post(\n",
    "        'https://geomap.ffiec.gov/FFIECGeocMap/GeocodeMap1.aspx/GetGeocodeData',\n",
    "        data = json.dumps(payload_obj),\n",
    "        headers = header_obj\n",
    "    )\n",
    "    response = json.loads(r.text)\n",
    "    return response['d']['sCountyCode']"
   ]
  },
  {
   "cell_type": "code",
   "execution_count": null,
   "metadata": {},
   "outputs": [],
   "source": [
    "def get_state_code_from_address(address, year):\n",
    "    header_obj = { 'Content-Type': 'application/json' }\n",
    "    payload_obj = {'sSingleLine': address, 'iCensusYear': year}\n",
    "    r = requests.post(\n",
    "        'https://geomap.ffiec.gov/FFIECGeocMap/GeocodeMap1.aspx/GetGeocodeData',\n",
    "        data = json.dumps(payload_obj),\n",
    "        headers = header_obj\n",
    "    )\n",
    "    response = json.loads(r.text)\n",
    "    return response['d']['sStateCode']"
   ]
  },
  {
   "cell_type": "code",
   "execution_count": null,
   "metadata": {},
   "outputs": [],
   "source": [
    "def get_state_abbr_from_address(address, year):\n",
    "    header_obj = { 'Content-Type': 'application/json' }\n",
    "    payload_obj = {'sSingleLine': address, 'iCensusYear': year}\n",
    "    r = requests.post(\n",
    "        'https://geomap.ffiec.gov/FFIECGeocMap/GeocodeMap1.aspx/GetGeocodeData',\n",
    "        data = json.dumps(payload_obj),\n",
    "        headers = header_obj\n",
    "    )\n",
    "    response = json.loads(r.text)\n",
    "    return response['d']['sStateAbbr']"
   ]
  },
  {
   "cell_type": "markdown",
   "metadata": {},
   "source": [
    "## The new dataframe with county codes,state codes and state abbrevation is stored as a CSV file (2016, 2017) <br><br> PS: If you will be running the notebook, do not run the following two cells, as they would take a long time to get the details from REST API. Instead use the CSV files directly which contains the results obtained from the API."
   ]
  },
  {
   "cell_type": "code",
   "execution_count": 204,
   "metadata": {
    "collapsed": true
   },
   "outputs": [
    {
     "name": "stderr",
     "output_type": "stream",
     "text": [
      "/usr/local/Cellar/python3/3.6.3/Frameworks/Python.framework/Versions/3.6/lib/python3.6/site-packages/ipykernel_launcher.py:1: SettingWithCopyWarning: \n",
      "A value is trying to be set on a copy of a slice from a DataFrame.\n",
      "Try using .loc[row_indexer,col_indexer] = value instead\n",
      "\n",
      "See the caveats in the documentation: http://pandas.pydata.org/pandas-docs/stable/indexing.html#indexing-view-versus-copy\n",
      "  \"\"\"Entry point for launching an IPython kernel.\n"
     ]
    }
   ],
   "source": [
    "df_2016['county_code'] = df_2016['address'].apply(get_county_code_from_address, year=2016)\n",
    "df_2016['state_code'] = df_2016['address'].apply(get_state_code_from_address, year=2016)\n",
    "df_2016['state_abbr'] = df_2016['address'].apply(get_state_abbr_from_address, year=2016)"
   ]
  },
  {
   "cell_type": "code",
   "execution_count": null,
   "metadata": {},
   "outputs": [],
   "source": [
    "df_2017['county_code'] = df_2017['address'].apply(get_county_code_from_address, year=2017)\n",
    "df_2017['state_code'] = df_2017['address'].apply(get_state_code_from_address, year=2017)\n",
    "df_2017['state_abbr'] = df_2017['address'].apply(get_state_abbr_from_address, year=2017)"
   ]
  },
  {
   "cell_type": "markdown",
   "metadata": {},
   "source": [
    "### Save the new dataframes as CSV"
   ]
  },
  {
   "cell_type": "code",
   "execution_count": 256,
   "metadata": {
    "collapsed": true
   },
   "outputs": [
    {
     "name": "stderr",
     "output_type": "stream",
     "text": [
      "/usr/local/Cellar/python3/3.6.3/Frameworks/Python.framework/Versions/3.6/lib/python3.6/site-packages/ipykernel_launcher.py:1: SettingWithCopyWarning: \n",
      "A value is trying to be set on a copy of a slice from a DataFrame.\n",
      "Try using .loc[row_indexer,col_indexer] = value instead\n",
      "\n",
      "See the caveats in the documentation: http://pandas.pydata.org/pandas-docs/stable/indexing.html#indexing-view-versus-copy\n",
      "  \"\"\"Entry point for launching an IPython kernel.\n"
     ]
    }
   ],
   "source": [
    "df_2016['county_code'] = df_2016['county_code'].astype('str')\n",
    "df_2016.to_csv('loans_2016.csv')"
   ]
  },
  {
   "cell_type": "code",
   "execution_count": 260,
   "metadata": {
    "collapsed": true
   },
   "outputs": [
    {
     "name": "stderr",
     "output_type": "stream",
     "text": [
      "/usr/local/Cellar/python3/3.6.3/Frameworks/Python.framework/Versions/3.6/lib/python3.6/site-packages/ipykernel_launcher.py:1: SettingWithCopyWarning: \n",
      "A value is trying to be set on a copy of a slice from a DataFrame.\n",
      "Try using .loc[row_indexer,col_indexer] = value instead\n",
      "\n",
      "See the caveats in the documentation: http://pandas.pydata.org/pandas-docs/stable/indexing.html#indexing-view-versus-copy\n",
      "  \"\"\"Entry point for launching an IPython kernel.\n"
     ]
    }
   ],
   "source": [
    "df_2017['county_code'] = df_2017['county_code'].astype('str')\n",
    "df_2017.to_csv('loans_2017.csv')"
   ]
  },
  {
   "cell_type": "markdown",
   "metadata": {},
   "source": [
    "## Now lets find what is the loan limits for each county code in the dataframe"
   ]
  },
  {
   "cell_type": "code",
   "execution_count": null,
   "metadata": {},
   "outputs": [],
   "source": [
    "import xlrd"
   ]
  },
  {
   "cell_type": "markdown",
   "metadata": {},
   "source": [
    "#### Read the XLS file which contains the loan limits for each counties <br> Converting first row as header"
   ]
  },
  {
   "cell_type": "code",
   "execution_count": 282,
   "metadata": {
    "collapsed": true
   },
   "outputs": [
    {
     "name": "stderr",
     "output_type": "stream",
     "text": [
      "/usr/local/Cellar/python3/3.6.3/Frameworks/Python.framework/Versions/3.6/lib/python3.6/site-packages/pandas/core/frame.py:3027: SettingWithCopyWarning: \n",
      "A value is trying to be set on a copy of a slice from a DataFrame\n",
      "\n",
      "See the caveats in the documentation: http://pandas.pydata.org/pandas-docs/stable/indexing.html#indexing-view-versus-copy\n",
      "  return super(DataFrame, self).rename(**kwargs)\n"
     ]
    }
   ],
   "source": [
    "df_county_info_2017 = pd.read_excel('FullCountyLoanLimitList2017_HERA-BASED_FINAL_FLAT.xlsx')\n",
    "df_county_info_2017 = df_county_info_2017.rename(columns=df_county_info_2017.iloc[0])\n",
    "df_county_info_2017 = df_county_info_2017[1:]\n",
    "df_county_info_2017.rename(columns={\"FIPS County Code\": \"county_code\", \"State\": \"state_abbr\"}, inplace=True)\n",
    "\n",
    "df_county_info_2016 = pd.read_excel('FullCountyLoanLimitList2016_HERA-BASED_FINAL_FLAT.xlsx')\n",
    "df_county_info_2016 = df_county_info_2016.rename(columns=df_county_info_2016.iloc[0])\n",
    "df_county_info_2016 = df_county_info_2017[1:]\n",
    "df_county_info_2016.rename(columns={\"FIPS County Code\": \"county_code\", \"State\": \"state_abbr\"}, inplace=True)"
   ]
  },
  {
   "cell_type": "markdown",
   "metadata": {},
   "source": [
    "#### Read the previously created CSV file for both 2016 and 2017"
   ]
  },
  {
   "cell_type": "code",
   "execution_count": 284,
   "metadata": {},
   "outputs": [],
   "source": [
    "df_2017_N = pd.read_csv('loans_2017.csv', dtype={'county_code': object})\n",
    "df_2017_N.rename(columns={\"Unnamed: 0\": \"id\"}, inplace=True)\n",
    "\n",
    "df_2016_N = pd.read_csv('loans_2016.csv', dtype={'county_code': object})\n",
    "df_2016_N.rename(columns={\"Unnamed: 0\": \"id\"}, inplace=True)"
   ]
  },
  {
   "cell_type": "markdown",
   "metadata": {},
   "source": [
    "## Perform a Merge(INNER JOIN) on columns `county_code` and `state_abbr` so that we know what is the loan limit for each county along with the loan amount "
   ]
  },
  {
   "cell_type": "code",
   "execution_count": 294,
   "metadata": {},
   "outputs": [],
   "source": [
    "df_2017_all = df_2017_N.merge(df_county_info_2017, how='inner', on=['county_code', 'state_abbr'])\n",
    "df_2017_all.rename(columns={'One-Unit Limit': 'one_unit_limit', 'Two-Unit Limit': 'two_unit_limit',\n",
    "                           'Three-Unit Limit': 'three_unit_limit', 'Four-Unit Limit': 'four_unit_limit'}, inplace=True)"
   ]
  },
  {
   "cell_type": "code",
   "execution_count": 295,
   "metadata": {},
   "outputs": [],
   "source": [
    "df_2016_all = df_2016_N.merge(df_county_info_2016, how='inner', on=['county_code', 'state_abbr'])\n",
    "df_2016_all.rename(columns={'One-Unit Limit': 'one_unit_limit', 'Two-Unit Limit': 'two_unit_limit',\n",
    "                           'Three-Unit Limit': 'three_unit_limit', 'Four-Unit Limit': 'four_unit_limit'}, inplace=True)"
   ]
  },
  {
   "cell_type": "markdown",
   "metadata": {},
   "source": [
    "## Now we have two dataframes with the loan amount, county and the loan limit for each county. <br><br> Hence, we can begin the findings on conforming and jumbo loans"
   ]
  },
  {
   "cell_type": "markdown",
   "metadata": {},
   "source": [
    "### As nothing has been specified, I considered a `two_unit_limit` as the standard limit for indentifying the loan<br> If the `loan_amount` is greater that county limit, it is `jumbo`, if less then `conforming`<br><br> `find_loan_type()` finds the loan type for each loan application"
   ]
  },
  {
   "cell_type": "code",
   "execution_count": 308,
   "metadata": {},
   "outputs": [],
   "source": [
    "def find_loan_type(row):\n",
    "    if row['loan_amount'] > row['two_unit_limit']:\n",
    "        return 'jumbo'\n",
    "    else:\n",
    "        return 'conforming'"
   ]
  },
  {
   "cell_type": "code",
   "execution_count": 309,
   "metadata": {},
   "outputs": [],
   "source": [
    "df_2017_all['loan_type'] = df_2017_all.apply(find_loan_type, axis=1)"
   ]
  },
  {
   "cell_type": "code",
   "execution_count": 310,
   "metadata": {},
   "outputs": [],
   "source": [
    "df_2016_all['loan_type'] = df_2016_all.apply(find_loan_type, axis=1)"
   ]
  },
  {
   "cell_type": "code",
   "execution_count": 312,
   "metadata": {},
   "outputs": [
    {
     "data": {
      "text/plain": [
       "conforming    3703\n",
       "jumbo          180\n",
       "Name: loan_type, dtype: int64"
      ]
     },
     "execution_count": 312,
     "metadata": {},
     "output_type": "execute_result"
    }
   ],
   "source": [
    "df_2017_all['loan_type'].value_counts()"
   ]
  },
  {
   "cell_type": "code",
   "execution_count": 313,
   "metadata": {},
   "outputs": [
    {
     "data": {
      "text/plain": [
       "conforming    871\n",
       "jumbo          15\n",
       "Name: loan_type, dtype: int64"
      ]
     },
     "execution_count": 313,
     "metadata": {},
     "output_type": "execute_result"
    }
   ],
   "source": [
    "df_2016_all['loan_type'].value_counts()"
   ]
  },
  {
   "cell_type": "markdown",
   "metadata": {},
   "source": [
    "# What is the conversion rate from loan application to fund, broken down by conforming vs jumbo?"
   ]
  },
  {
   "cell_type": "markdown",
   "metadata": {},
   "source": [
    "## First Up is year 2017"
   ]
  },
  {
   "cell_type": "code",
   "execution_count": 325,
   "metadata": {},
   "outputs": [],
   "source": [
    "df_2017_conforming = df_2017_all[df_2017_all['loan_type'] == 'conforming']\n",
    "df_2017_jumbo = df_2017_all[df_2017_all['loan_type'] == 'jumbo']"
   ]
  },
  {
   "cell_type": "code",
   "execution_count": 326,
   "metadata": {},
   "outputs": [],
   "source": [
    "df_2017_conforming_funded = df_2017_conforming[~df_2017_conforming['funded_at'].isnull()]"
   ]
  },
  {
   "cell_type": "code",
   "execution_count": 327,
   "metadata": {},
   "outputs": [
    {
     "data": {
      "text/plain": [
       "558"
      ]
     },
     "execution_count": 327,
     "metadata": {},
     "output_type": "execute_result"
    }
   ],
   "source": [
    "len(df_2017_conforming_funded)"
   ]
  },
  {
   "cell_type": "code",
   "execution_count": 328,
   "metadata": {},
   "outputs": [
    {
     "data": {
      "text/plain": [
       "3703"
      ]
     },
     "execution_count": 328,
     "metadata": {},
     "output_type": "execute_result"
    }
   ],
   "source": [
    "len(df_2017_conforming)"
   ]
  },
  {
   "cell_type": "markdown",
   "metadata": {},
   "source": [
    "### For year 2017, `558` out of `3703` `conforming` loans have been funded till Dec 2017"
   ]
  },
  {
   "cell_type": "code",
   "execution_count": 329,
   "metadata": {},
   "outputs": [],
   "source": [
    "df_2017_jumbo_funded = df_2017_jumbo[~df_2017_jumbo['funded_at'].isnull()]"
   ]
  },
  {
   "cell_type": "code",
   "execution_count": 330,
   "metadata": {},
   "outputs": [
    {
     "data": {
      "text/plain": [
       "6"
      ]
     },
     "execution_count": 330,
     "metadata": {},
     "output_type": "execute_result"
    }
   ],
   "source": [
    "len(df_2017_jumbo_funded)"
   ]
  },
  {
   "cell_type": "code",
   "execution_count": 331,
   "metadata": {},
   "outputs": [
    {
     "data": {
      "text/plain": [
       "180"
      ]
     },
     "execution_count": 331,
     "metadata": {},
     "output_type": "execute_result"
    }
   ],
   "source": [
    "len(df_2017_jumbo)"
   ]
  },
  {
   "cell_type": "markdown",
   "metadata": {},
   "source": [
    "### For year 2017, `6` out of `180` `jumbo` loans have been funded till Dec 2017"
   ]
  },
  {
   "cell_type": "markdown",
   "metadata": {},
   "source": [
    "## Next is year 2016"
   ]
  },
  {
   "cell_type": "code",
   "execution_count": 332,
   "metadata": {},
   "outputs": [],
   "source": [
    "df_2016_conforming = df_2016_all[df_2016_all['loan_type'] == 'conforming']\n",
    "df_2016_jumbo = df_2016_all[df_2016_all['loan_type'] == 'jumbo']"
   ]
  },
  {
   "cell_type": "code",
   "execution_count": 333,
   "metadata": {},
   "outputs": [],
   "source": [
    "df_2016_conforming_funded = df_2016_conforming[~df_2016_conforming['funded_at'].isnull()]"
   ]
  },
  {
   "cell_type": "code",
   "execution_count": 334,
   "metadata": {},
   "outputs": [
    {
     "data": {
      "text/plain": [
       "413"
      ]
     },
     "execution_count": 334,
     "metadata": {},
     "output_type": "execute_result"
    }
   ],
   "source": [
    "len(df_2016_conforming_funded)"
   ]
  },
  {
   "cell_type": "code",
   "execution_count": 335,
   "metadata": {},
   "outputs": [
    {
     "data": {
      "text/plain": [
       "871"
      ]
     },
     "execution_count": 335,
     "metadata": {},
     "output_type": "execute_result"
    }
   ],
   "source": [
    "len(df_2016_conforming)"
   ]
  },
  {
   "cell_type": "markdown",
   "metadata": {},
   "source": [
    "### For year 2016, `413` out of `871` `conforming` loans have been funded till Dec 2016"
   ]
  },
  {
   "cell_type": "code",
   "execution_count": 337,
   "metadata": {},
   "outputs": [],
   "source": [
    "df_2016_jumbo_funded = df_2016_jumbo[~df_2016_jumbo['funded_at'].isnull()]"
   ]
  },
  {
   "cell_type": "code",
   "execution_count": 338,
   "metadata": {},
   "outputs": [
    {
     "data": {
      "text/plain": [
       "0"
      ]
     },
     "execution_count": 338,
     "metadata": {},
     "output_type": "execute_result"
    }
   ],
   "source": [
    "len(df_2016_jumbo_funded)"
   ]
  },
  {
   "cell_type": "code",
   "execution_count": 339,
   "metadata": {},
   "outputs": [
    {
     "data": {
      "text/plain": [
       "15"
      ]
     },
     "execution_count": 339,
     "metadata": {},
     "output_type": "execute_result"
    }
   ],
   "source": [
    "len(df_2016_jumbo)"
   ]
  },
  {
   "cell_type": "markdown",
   "metadata": {},
   "source": [
    "### For year 2016, None of the `jumbo` loans have been funded till Dec 2016"
   ]
  },
  {
   "cell_type": "markdown",
   "metadata": {},
   "source": [
    "# How much does it vary over time?"
   ]
  },
  {
   "cell_type": "markdown",
   "metadata": {},
   "source": [
    "### `get_funded_per_month()` method is used to see the number of funded applications and total applications for every month of the year 2016 and 2017 according to its loan type"
   ]
  },
  {
   "cell_type": "markdown",
   "metadata": {},
   "source": [
    "### Below is the dictionary which contains the number of funded and total application grouped by month for year `2017` for the `conforming` loans"
   ]
  },
  {
   "cell_type": "code",
   "execution_count": 344,
   "metadata": {},
   "outputs": [
    {
     "data": {
      "text/plain": [
       "[{'funded_applications': 56, 'month': 1, 'total_applications': 463},\n",
       " {'funded_applications': 41, 'month': 2, 'total_applications': 230},\n",
       " {'funded_applications': 32, 'month': 3, 'total_applications': 197},\n",
       " {'funded_applications': 26, 'month': 4, 'total_applications': 147},\n",
       " {'funded_applications': 52, 'month': 5, 'total_applications': 186},\n",
       " {'funded_applications': 80, 'month': 6, 'total_applications': 378},\n",
       " {'funded_applications': 69, 'month': 7, 'total_applications': 427},\n",
       " {'funded_applications': 72, 'month': 8, 'total_applications': 464},\n",
       " {'funded_applications': 57, 'month': 9, 'total_applications': 419},\n",
       " {'funded_applications': 62, 'month': 10, 'total_applications': 356},\n",
       " {'funded_applications': 11, 'month': 11, 'total_applications': 315},\n",
       " {'funded_applications': 0, 'month': 12, 'total_applications': 121}]"
      ]
     },
     "execution_count": 344,
     "metadata": {},
     "output_type": "execute_result"
    }
   ],
   "source": [
    "get_funded_per_month(df_2017_conforming)"
   ]
  },
  {
   "cell_type": "markdown",
   "metadata": {},
   "source": [
    "### Below is the dictionary which contains the number of funded and total application grouped by month for year `2017` for the `jumbo` loans"
   ]
  },
  {
   "cell_type": "code",
   "execution_count": 345,
   "metadata": {},
   "outputs": [
    {
     "data": {
      "text/plain": [
       "[{'funded_applications': 1, 'month': 1, 'total_applications': 37},\n",
       " {'funded_applications': 0, 'month': 2, 'total_applications': 9},\n",
       " {'funded_applications': 0, 'month': 3, 'total_applications': 14},\n",
       " {'funded_applications': 0, 'month': 4, 'total_applications': 7},\n",
       " {'funded_applications': 2, 'month': 5, 'total_applications': 6},\n",
       " {'funded_applications': 0, 'month': 6, 'total_applications': 12},\n",
       " {'funded_applications': 1, 'month': 7, 'total_applications': 16},\n",
       " {'funded_applications': 1, 'month': 8, 'total_applications': 22},\n",
       " {'funded_applications': 0, 'month': 9, 'total_applications': 22},\n",
       " {'funded_applications': 1, 'month': 10, 'total_applications': 22},\n",
       " {'funded_applications': 0, 'month': 11, 'total_applications': 7},\n",
       " {'funded_applications': 0, 'month': 12, 'total_applications': 6}]"
      ]
     },
     "execution_count": 345,
     "metadata": {},
     "output_type": "execute_result"
    }
   ],
   "source": [
    "get_funded_per_month(df_2017_jumbo)"
   ]
  },
  {
   "cell_type": "markdown",
   "metadata": {},
   "source": [
    "### Below is the dictionary which contains the number of funded and total application grouped by month for year `2016` for the `conforming` loans"
   ]
  },
  {
   "cell_type": "code",
   "execution_count": 346,
   "metadata": {},
   "outputs": [
    {
     "data": {
      "text/plain": [
       "[{'funded_applications': 0, 'month': 2, 'total_applications': 1},\n",
       " {'funded_applications': 0, 'month': 3, 'total_applications': 9},\n",
       " {'funded_applications': 0, 'month': 4, 'total_applications': 28},\n",
       " {'funded_applications': 0, 'month': 5, 'total_applications': 42},\n",
       " {'funded_applications': 1, 'month': 6, 'total_applications': 2},\n",
       " {'funded_applications': 2, 'month': 7, 'total_applications': 3},\n",
       " {'funded_applications': 14, 'month': 8, 'total_applications': 14},\n",
       " {'funded_applications': 112, 'month': 9, 'total_applications': 112},\n",
       " {'funded_applications': 149, 'month': 10, 'total_applications': 150},\n",
       " {'funded_applications': 79, 'month': 11, 'total_applications': 230},\n",
       " {'funded_applications': 56, 'month': 12, 'total_applications': 280}]"
      ]
     },
     "execution_count": 346,
     "metadata": {},
     "output_type": "execute_result"
    }
   ],
   "source": [
    "get_funded_per_month(df_2016_conforming)"
   ]
  },
  {
   "cell_type": "markdown",
   "metadata": {},
   "source": [
    "### Below is the dictionary which contains the number of funded and total application grouped by month for year `2016` for the `jumbo` loans"
   ]
  },
  {
   "cell_type": "code",
   "execution_count": 347,
   "metadata": {},
   "outputs": [
    {
     "data": {
      "text/plain": [
       "[{'funded_applications': 0, 'month': 4, 'total_applications': 2},\n",
       " {'funded_applications': 0, 'month': 11, 'total_applications': 1},\n",
       " {'funded_applications': 0, 'month': 12, 'total_applications': 12}]"
      ]
     },
     "execution_count": 347,
     "metadata": {},
     "output_type": "execute_result"
    }
   ],
   "source": [
    "get_funded_per_month(df_2016_jumbo)"
   ]
  },
  {
   "cell_type": "code",
   "execution_count": null,
   "metadata": {},
   "outputs": [],
   "source": []
  }
 ],
 "metadata": {
  "kernelspec": {
   "display_name": "Python 3",
   "language": "python",
   "name": "python3"
  },
  "language_info": {
   "codemirror_mode": {
    "name": "ipython",
    "version": 3
   },
   "file_extension": ".py",
   "mimetype": "text/x-python",
   "name": "python",
   "nbconvert_exporter": "python",
   "pygments_lexer": "ipython3",
   "version": "3.6.3"
  }
 },
 "nbformat": 4,
 "nbformat_minor": 2
}
